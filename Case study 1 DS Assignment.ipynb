{
 "cells": [
  {
   "cell_type": "code",
   "execution_count": 80,
   "id": "sound-failing",
   "metadata": {},
   "outputs": [
    {
     "name": "stdout",
     "output_type": "stream",
     "text": [
      "\n"
     ]
    }
   ],
   "source": [
    "'''/*\n",
    "Database of Airlines\n",
    "Table1: Customer Id, Ticket ID, Origin, Destination, Start time and end Time\n",
    "Table2: Flight Number, Date, Origin, Destination, Start time and end time of the flight\n",
    "\n",
    "Assumption: There can be only one flight taking off from an airport at a given time\n",
    "\n",
    "Desired Output – for given cust_id, ticket_id, need sequence of all flight_no used for the trip (all connecting flights)\n",
    "\n",
    "Table1 : cust_id, ticket_id, first_cust_port, last_cust_port, cust_start, cust_end\n",
    "Table2 : flight_no, date, orig_port, dest_port, flight_start, flight_end\n",
    "*/\n",
    "\n",
    "data cust_data;\n",
    "   input cust_id $ ticket_id first_cust_port $ last_cust_port $ cust_start cust_end;\n",
    "   datalines;\n",
    "    A123 9342312 Delhi Mumbai 815 1730\n",
    "    A456 6542312 Delhi Mumbai 830 1015\n",
    "    A789 7542312 Delhi Mumbai 845 1330\n",
    "; \n",
    "\n",
    "data flight_data;\n",
    "   input flight_no $ date $ orig_port $ dest_port $ flight_start flight_end;\n",
    "   datalines;\n",
    "    B99 04042014 Delhi Mumbai 830 1015\n",
    "    B89 04042014 Delhi Jaipur 845 1045\n",
    "    B69 04042014 Jaipur Mumbai 1130 1330\n",
    "    B79 04042014 Delhi Agra 815 1130\n",
    "    B59 04042014 Agra Surat 1230 1430\n",
    "    B49 04042014 Surat Pune 1445 1530\n",
    "    B39 04042014 Pune Mumbai 1615 1730\n",
    "; '''\n",
    "print()"
   ]
  },
  {
   "cell_type": "markdown",
   "id": "premium-black",
   "metadata": {},
   "source": [
    "## Converting text file into python dataframe "
   ]
  },
  {
   "cell_type": "code",
   "execution_count": 5,
   "id": "restricted-biodiversity",
   "metadata": {},
   "outputs": [
    {
     "name": "stdout",
     "output_type": "stream",
     "text": [
      "  cust_id  ticket_id first_cust_port last_cust_port  cust_start  cust_end\n",
      "0    A123    9342312           Delhi         Mumbai         815      1730\n",
      "1    A456    6542312           Delhi         Mumbai         830      1015\n",
      "2    A789    7542312           Delhi         Mumbai         845      1330\n"
     ]
    }
   ],
   "source": [
    "import pandas as pd\n",
    "table_df1= pd.read_csv(\"/home/aditya/Desktop/companies assesement/datascienceroleatcars24/table1.txt\", sep=\" \", engine='python', header=None)\n",
    "table_df1.columns = [\"cust_id\" , \"ticket_id\" ,\"first_cust_port\" , \"last_cust_port\" ,\"cust_start\" ,\"cust_end\"]\n",
    "print(table_df1)"
   ]
  },
  {
   "cell_type": "code",
   "execution_count": 6,
   "id": "wound-saver",
   "metadata": {},
   "outputs": [
    {
     "name": "stdout",
     "output_type": "stream",
     "text": [
      "  flight_no     date orig_port dest_port  flight_start  flight_end\n",
      "0       B99  4042014     Delhi    Mumbai           830        1015\n",
      "1       B89  4042014     Delhi    Jaipur           845        1045\n",
      "2       B69  4042014    Jaipur    Mumbai          1130        1330\n",
      "3       B79  4042014     Delhi      Agra           815        1130\n",
      "4       B59  4042014      Agra     Surat          1230        1430\n",
      "5       B49  4042014     Surat      Pune          1445        1530\n",
      "6       B39  4042014      Pune    Mumbai          1615        1730\n"
     ]
    }
   ],
   "source": [
    "\n",
    "import pandas as pd\n",
    "table_df2= pd.read_csv(\"/home/aditya/Desktop/companies assesement/datascienceroleatcars24/table2.txt\", sep=\" \", engine='python', header=None)\n",
    "table_df2.columns = [\"flight_no\" , \"date\" , \"orig_port\" , \"dest_port\" , \"flight_start\" , \"flight_end\"]\n",
    "print(table_df2)"
   ]
  },
  {
   "cell_type": "markdown",
   "id": "spatial-complaint",
   "metadata": {},
   "source": [
    "## Find path function\n",
    "Recursively find all paths from origin port to end port"
   ]
  },
  {
   "cell_type": "code",
   "execution_count": 84,
   "id": "fabulous-kenya",
   "metadata": {},
   "outputs": [
    {
     "name": "stdout",
     "output_type": "stream",
     "text": [
      "['A123', 9342312, 'B79', 'B59', 'B49', 'B39']\n",
      "['A456', 6542312, 'B99']\n",
      "['A789', 7542312, 'B89', 'B69']\n"
     ]
    }
   ],
   "source": [
    "solve(table_df1, table_df2)"
   ]
  },
  {
   "cell_type": "code",
   "execution_count": 83,
   "id": "thermal-passenger",
   "metadata": {},
   "outputs": [],
   "source": [
    "def find_path(start_port,b,prev_port_end_time,t2, table_df2, data):\n",
    "    if(start_port==b and prev_port_end_time==t2):\n",
    "        print(data)\n",
    "        return 0;\n",
    "    else:\n",
    "        r1=table_df2.loc[(table_df2['orig_port'] == start_port) & (table_df2['flight_start'] >= prev_port_end_time) \n",
    "                         & (table_df2['flight_start'] < t2)].values\n",
    "        for flight_list in r1:\n",
    "            f=flight_list[3]\n",
    "            g=flight_list[5]\n",
    "            data.append(flight_list[0])\n",
    "            find_path(f,b,g,t2,table_df2, data)\n",
    "            data.pop()\n",
    "    "
   ]
  },
  {
   "cell_type": "code",
   "execution_count": 75,
   "id": "special-reputation",
   "metadata": {},
   "outputs": [],
   "source": [
    "def solve(table1, table2):\n",
    "    \n",
    "    for index, row in table_df1.iterrows():\n",
    "        data=[]\n",
    "        data.append(row['cust_id'])\n",
    "        data.append(row['ticket_id'])\n",
    "        a=row['first_cust_port']\n",
    "        b=row['last_cust_port']\n",
    "        t1=row['cust_start']\n",
    "        t2=row['cust_end']\n",
    "        r1=table_df2.loc[(table_df2['orig_port'] == a) & (table_df2['flight_start'] == t1)].values[0]\n",
    "        start_port=r1[3]\n",
    "        prev_port_end_time=r1[5]\n",
    "        data.append(r1[0])\n",
    "        find_path(start_port,b,prev_port_end_time,t2, table_df2, data)\n"
   ]
  },
  {
   "cell_type": "code",
   "execution_count": null,
   "id": "photographic-conclusion",
   "metadata": {},
   "outputs": [],
   "source": []
  }
 ],
 "metadata": {
  "kernelspec": {
   "display_name": "Python 3",
   "language": "python",
   "name": "python3"
  },
  "language_info": {
   "codemirror_mode": {
    "name": "ipython",
    "version": 3
   },
   "file_extension": ".py",
   "mimetype": "text/x-python",
   "name": "python",
   "nbconvert_exporter": "python",
   "pygments_lexer": "ipython3",
   "version": "3.8.5"
  }
 },
 "nbformat": 4,
 "nbformat_minor": 5
}
